{
 "cells": [
  {
   "cell_type": "markdown",
   "metadata": {
    "tags": []
   },
   "source": [
    "## Consultas hacia _alfresco_\n",
    "\n",
    "Este _notebook_ explora como hacer consultas de datos de audio del proyecto Sitios Permanentes de Calibración y Monitoreo de la Biodiversidad (SiPeCaM) de dos formas:\n",
    "\n",
    "1. Usando la API de `alfresco` para descargar los metadatos asociados a los archivos de audio filtrados inicialmente. \n",
    "2. Usando los metadatos obtenidos en 1. se determina la ruta de los archivos para poder usarlos desde `alfresco webdav`.\n",
    "\n",
    "\n",
    "En este ejemplo se van a filtrar archivos de audio grabados entre el 2021-10-01 y 2021-10-10 en el cúmulo 92. Para fines prácticos se pone un límite del búsqueda de 2 archivos. Inicialmente se realizará la consulta de los metadatos de uno de los archivos, y posteriormente se encuentra su ruta en `web-dav` para poder usarlo en procesamiento. \n"
   ]
  },
  {
   "cell_type": "markdown",
   "metadata": {
    "tags": []
   },
   "source": [
    "**Nota:**\n",
    "\n",
    "El usuario deber tener en el mismo directorio un archivo `.env` que contenga la `x-api-key` del _alfresco_ para poder realizar consultas. El archivo solo contiene una línea, de la siguiente forma:\n",
    "```\n",
    "X_API_KEY=<x-api-key>\n",
    "API_ENDPOINT=\"https://api.conabio.gob.mx/alfresco/search/\"\n",
    "```\n"
   ]
  },
  {
   "cell_type": "markdown",
   "metadata": {
    "tags": []
   },
   "source": [
    "### Dependencias"
   ]
  },
  {
   "cell_type": "code",
   "execution_count": 1,
   "metadata": {},
   "outputs": [],
   "source": [
    "%%capture\n",
    "!pip3 install python-dotenv==0.19.2"
   ]
  },
  {
   "cell_type": "code",
   "execution_count": 1,
   "metadata": {},
   "outputs": [],
   "source": [
    "import os\n",
    "import base64\n",
    "import datetime \n",
    "import json\n",
    "import requests\n",
    "import matplotlib.pyplot as plt\n",
    "import numpy as np\n",
    "import pandas as pd\n",
    "\n",
    "from yuntu import Audio\n",
    "from dotenv import load_dotenv"
   ]
  },
  {
   "cell_type": "markdown",
   "metadata": {
    "tags": []
   },
   "source": [
    "#### Parámetros"
   ]
  },
  {
   "cell_type": "markdown",
   "metadata": {
    "tags": []
   },
   "source": [
    "En este ejemplo hacemos una consulta con los siguientes campos:\n",
    "\n",
    "- START_DATE (str): Fecha de inicio de los archivos\n",
    "- END_DATE (str): Fecha de final de los archivos\n",
    "- CUMULO (int): Número del cúmulo SiPeCaM\n",
    "- MAX_ITEMS (int): Número máximo de items en el query"
   ]
  },
  {
   "cell_type": "code",
   "execution_count": 2,
   "metadata": {},
   "outputs": [],
   "source": [
    "## user parameters - alfresco query\n",
    "START_DATE = \"2021-10-01\" # YYYY-MM-DD\n",
    "END_DATE = \"2021-10-10\" # YYYY-MM-DD\n",
    "CUMULO = 92 # INT\n",
    "MAX_ITEMS = 2 # INT\n",
    "\n",
    "## parameters to adjust local paths\n",
    "WEBDAV_DIR = \"/shared_volume/webdav_alfresco\"\n",
    "SIPECAMP_WD_DIR = \"Sites/sipecam/documentLibrary\""
   ]
  },
  {
   "cell_type": "markdown",
   "metadata": {
    "tags": []
   },
   "source": [
    "## Funciones"
   ]
  },
  {
   "cell_type": "code",
   "execution_count": 3,
   "metadata": {},
   "outputs": [],
   "source": [
    "def get_file_path(webdav_local_dir, project_dir, cumulo, metadata_path):\n",
    "    web_dav_local_path = os.path.join(webdav_local_dir, project_dir, str(cumulo))\n",
    "    adj_metadata_path = metadata_path.split(\"documentLibrary/\")[-1]\n",
    "    \n",
    "    return os.path.join(web_dav_local_path, adj_metadata_path)\n",
    "\n",
    "def login():\n",
    "    try:\n",
    "        session = requests.Session()\n",
    "        session.headers.update({\"x-api-key\": os.getenv(\"X_API_KEY\")})\n",
    "        return session\n",
    "    except Exception as e:\n",
    "        print(\"Login failed: \", e)\n",
    "\n",
    "def parse_query_audio(start_date, end_date, cumulo, maxitems, print_q = False):\n",
    "    query = {\"query\": {\"query\": f\"+TYPE: \\\"sipecamAudio:audiofileSipecam\\\" AND (sipecamAudio:Datetime: [{start_date} TO {end_date}]) AND (sipecam:CumulusName: \\\"{cumulo}\\\")\",\n",
    "      \"language\": \"afts\"\n",
    "        },\n",
    "    \"include\": [\"properties\", \"path\"],\n",
    "     \"paging\": {\"maxItems\": f\"{maxitems}\"\n",
    "        }\n",
    "    }\n",
    "    \n",
    "    if print_q:\n",
    "        print(json.dumps(query, indent=2, sort_keys=False))\n",
    "    \n",
    "    return query\n",
    "\n",
    "def request_metadata(session, query):\n",
    "    \n",
    "    try:\n",
    "        req = session.post(\n",
    "            os.getenv(\"API_ENDPOINT\"),\n",
    "            data = json.dumps(query),\n",
    "        )\n",
    "\n",
    "        metadata = req.json()\n",
    "\n",
    "        counts = metadata['list']['pagination']['count']\n",
    "        print(f\"Found metadata for {counts} files\")\n",
    "    \n",
    "        return metadata\n",
    "    \n",
    "    except Exception as e:\n",
    "        print(\"Error: \", e)\n",
    "        \n"
   ]
  },
  {
   "cell_type": "markdown",
   "metadata": {
    "tags": []
   },
   "source": [
    "## Consulta de metadatos"
   ]
  },
  {
   "cell_type": "markdown",
   "metadata": {
    "tags": []
   },
   "source": [
    "- Crear _session_ de _alfresco_:\n"
   ]
  },
  {
   "cell_type": "code",
   "execution_count": 4,
   "metadata": {},
   "outputs": [],
   "source": [
    "load_dotenv()\n",
    "session = login()"
   ]
  },
  {
   "cell_type": "markdown",
   "metadata": {
    "tags": []
   },
   "source": [
    "- Definir query:"
   ]
  },
  {
   "cell_type": "code",
   "execution_count": 5,
   "metadata": {},
   "outputs": [
    {
     "name": "stdout",
     "output_type": "stream",
     "text": [
      "{\n",
      "  \"query\": {\n",
      "    \"query\": \"+TYPE: \\\"sipecamAudio:audiofileSipecam\\\" AND (sipecamAudio:Datetime: [2021-10-01 TO 2021-10-10]) AND (sipecam:CumulusName: \\\"92\\\")\",\n",
      "    \"language\": \"afts\"\n",
      "  },\n",
      "  \"include\": [\n",
      "    \"properties\",\n",
      "    \"path\"\n",
      "  ],\n",
      "  \"paging\": {\n",
      "    \"maxItems\": \"2\"\n",
      "  }\n",
      "}\n"
     ]
    }
   ],
   "source": [
    "query = parse_query_audio(START_DATE, END_DATE, CUMULO, MAX_ITEMS, print_q = True)"
   ]
  },
  {
   "cell_type": "markdown",
   "metadata": {
    "tags": []
   },
   "source": [
    "- Consulta de metadatos a la API"
   ]
  },
  {
   "cell_type": "code",
   "execution_count": 6,
   "metadata": {},
   "outputs": [
    {
     "name": "stdout",
     "output_type": "stream",
     "text": [
      "Found metadata for 2 files\n"
     ]
    }
   ],
   "source": [
    "metadata = request_metadata(session, query)"
   ]
  },
  {
   "cell_type": "markdown",
   "metadata": {
    "tags": []
   },
   "source": [
    "> Ejemplo de metadatos para un archivo:"
   ]
  },
  {
   "cell_type": "code",
   "execution_count": 7,
   "metadata": {},
   "outputs": [
    {
     "data": {
      "text/plain": [
       "{'entry': {'isFile': True,\n",
       "  'createdByUser': {'id': 'jdonlucas', 'displayName': 'Jaime Donlucas'},\n",
       "  'modifiedAt': '2022-03-30T00:09:28.021+0000',\n",
       "  'nodeType': 'sipecamAudio:audiofileSipecam',\n",
       "  'content': {'mimeType': 'audio/x-wav',\n",
       "   'mimeTypeName': 'WAV Audio',\n",
       "   'sizeInBytes': 5760488,\n",
       "   'encoding': 'UTF-8'},\n",
       "  'parentId': '14712b52-7bbe-4136-89bb-d23b7d175af0',\n",
       "  'createdAt': '2022-03-18T01:48:37.789+0000',\n",
       "  'path': {'name': '/Company Home/Sites/cumulo-92/documentLibrary/3_92_0_1343/24E4C30453E1BE08/2021-10-09/audios/Audible',\n",
       "   'isComplete': True,\n",
       "   'elements': [{'id': '824c8ab7-d896-4a4f-9531-c794cb0b6b17',\n",
       "     'name': 'Company Home',\n",
       "     'nodeType': 'cm:folder',\n",
       "     'aspectNames': ['cm:titled', 'cm:auditable', 'app:uifacets']},\n",
       "    {'id': '3231f25b-2f7d-46d6-9254-7117621095b5',\n",
       "     'name': 'Sites',\n",
       "     'nodeType': 'st:sites',\n",
       "     'aspectNames': ['cm:titled', 'cm:auditable', 'app:uifacets']},\n",
       "    {'id': '260f63aa-3fce-458f-a080-b0b7e378d5e4',\n",
       "     'name': 'cumulo-92',\n",
       "     'nodeType': 'st:site',\n",
       "     'aspectNames': ['cm:tagscope', 'cm:titled', 'cm:auditable']},\n",
       "    {'id': 'ec5242f1-e0c1-4330-ad7c-6ebbc8463615',\n",
       "     'name': 'documentLibrary',\n",
       "     'nodeType': 'cm:folder',\n",
       "     'aspectNames': ['cm:tagscope', 'st:siteContainer', 'cm:auditable']},\n",
       "    {'id': '67ff68cd-e897-430a-9c7d-c8ee6f2ade00',\n",
       "     'name': '3_92_0_1343',\n",
       "     'nodeType': 'cm:folder',\n",
       "     'aspectNames': ['cm:auditable']},\n",
       "    {'id': '6c44785c-37ef-453a-9d4d-0469e0961f74',\n",
       "     'name': '24E4C30453E1BE08',\n",
       "     'nodeType': 'cm:folder',\n",
       "     'aspectNames': ['cm:auditable']},\n",
       "    {'id': 'c3aef6b9-6871-441d-adb8-79c048870817',\n",
       "     'name': '2021-10-09',\n",
       "     'nodeType': 'cm:folder',\n",
       "     'aspectNames': ['cm:auditable']},\n",
       "    {'id': '18d6f58d-679f-4c7e-9dd7-97a97cde7367',\n",
       "     'name': 'audios',\n",
       "     'nodeType': 'cm:folder',\n",
       "     'aspectNames': ['cm:auditable']},\n",
       "    {'id': '14712b52-7bbe-4136-89bb-d23b7d175af0',\n",
       "     'name': 'Audible',\n",
       "     'nodeType': 'cm:folder',\n",
       "     'aspectNames': ['cm:auditable']}]},\n",
       "  'isFolder': False,\n",
       "  'search': {'score': 1.0},\n",
       "  'modifiedByUser': {'id': 'jdonlucas', 'displayName': 'Jaime Donlucas'},\n",
       "  'name': 'c6f30d6e571782f985a758e8446961c4.WAV',\n",
       "  'location': 'nodes',\n",
       "  'id': 'f0448c86-85a7-4502-98e7-f5cab061154d',\n",
       "  'properties': {'sipecamAudio:Longitude': -90.9012,\n",
       "   'sipecamAudio:Latitude': 16.1088,\n",
       "   'cm:versionType': 'MAJOR',\n",
       "   'cm:versionLabel': '1.0',\n",
       "   'sipecam:EcosystemsName': 'Selvas humedas',\n",
       "   'audio:sampleType': '16Int',\n",
       "   'audio:sampleRate': 48000,\n",
       "   'sipecam:CumulusName': '92',\n",
       "   'sipecamAudio:Timezone': 'UTC',\n",
       "   'sipecam:NomenclatureNode': '3_92_0_1343',\n",
       "   'sipecamAudio:BitsPerSample': 16.0,\n",
       "   'sipecamAudio:Gain': 'medium',\n",
       "   'sipecamAudio:Datetime': '2021-10-09T18:50:00.000+0000',\n",
       "   'sipecamAudio:BitRate': '768.0 Kbit/sec',\n",
       "   'sipecamAudio:Duration': '0:01:00',\n",
       "   'sipecamAudio:Encoding': 'Microsoft PCM',\n",
       "   'sipecamAudio:SampleRate': 48000.0,\n",
       "   'sipecamAudio:Comment': 'Recorded at 12:50:00 09/10/2021 (UTC-6) by AudioMoth 24E4C30453E1BE08 at medium gain setting while battery state was 4.9V and temperature was 21.5C.',\n",
       "   'sipecamAudio:AvgBytesPerSec': 96000.0,\n",
       "   'sipecamAudio:FileSize': '5.5 MiB',\n",
       "   'sipecamAudio:Battery': '4.9V',\n",
       "   'sipecam:NodeCategoryIntegrity': 'Degradado',\n",
       "   'sipecamAudio:NumChannels': 1,\n",
       "   'sipecamAudio:SerialNumber': '24E4C30453E1BE08'}}}"
      ]
     },
     "execution_count": 7,
     "metadata": {},
     "output_type": "execute_result"
    }
   ],
   "source": [
    "audio_metadata_ex = metadata[\"list\"]['entries'][0]\n",
    "audio_metadata_ex"
   ]
  },
  {
   "cell_type": "markdown",
   "metadata": {
    "tags": []
   },
   "source": [
    "## Uso del archivo en alfresco webdav"
   ]
  },
  {
   "cell_type": "markdown",
   "metadata": {
    "tags": []
   },
   "source": [
    "Para consultar el archivo en `webdav` debemos encontrar la ruta completa del mismo. Se puede acceder a esta información de la sigueinte forma:"
   ]
  },
  {
   "cell_type": "code",
   "execution_count": 8,
   "metadata": {},
   "outputs": [
    {
     "name": "stdout",
     "output_type": "stream",
     "text": [
      "Metadata path:\n",
      " \t /Company Home/Sites/cumulo-92/documentLibrary/3_92_0_1343/24E4C30453E1BE08/2021-10-09/audios/Audible/c6f30d6e571782f985a758e8446961c4.WAV\n"
     ]
    }
   ],
   "source": [
    "# ruta en web dat\n",
    "web_dav_path = audio_metadata_ex[\"entry\"][\"path\"][\"name\"]\n",
    "file_name = audio_metadata_ex[\"entry\"][\"name\"]\n",
    "metadata_path = os.path.join(web_dav_path, file_name)\n",
    "\n",
    "print(\"Metadata path:\\n\", \"\\t\", metadata_path)"
   ]
  },
  {
   "cell_type": "markdown",
   "metadata": {
    "tags": []
   },
   "source": [
    "Sin embargo, debemos ajustar el la ruta al directorio `webdav` que tenemos en nuestro ordenador. Este ajuste se realiza por medio de la función `get_file_path`, definida anteriormente."
   ]
  },
  {
   "cell_type": "code",
   "execution_count": 9,
   "metadata": {},
   "outputs": [
    {
     "name": "stdout",
     "output_type": "stream",
     "text": [
      "Audio path:\n",
      " \t /shared_volume/webdav_alfresco/Sites/sipecam/documentLibrary/92/3_92_0_1343/24E4C30453E1BE08/2021-10-09/audios/Audible/c6f30d6e571782f985a758e8446961c4.WAV\n"
     ]
    }
   ],
   "source": [
    "audio_path_ex = get_file_path(WEBDAV_DIR, SIPECAMP_WD_DIR, CUMULO, metadata_path)\n",
    "\n",
    "print(\"Audio path:\\n\", \"\\t\", audio_path_ex)"
   ]
  },
  {
   "cell_type": "markdown",
   "metadata": {
    "tags": []
   },
   "source": [
    "Una vez encontrada la ruta del archivo localmente en `webdav`, se puede usar el mismo para ejercicios de procesamiento. Por ejemplo, en este caso, realizaremos un gráfico del arreglo que representa el archivo de audio. "
   ]
  },
  {
   "cell_type": "code",
   "execution_count": 10,
   "metadata": {},
   "outputs": [
    {
     "data": {
      "text/plain": [
       "<AxesSubplot:>"
      ]
     },
     "execution_count": 10,
     "metadata": {},
     "output_type": "execute_result"
    },
    {
     "data": {
      "image/png": "[encoded data removed]",
      "text/plain": [
       "<Figure size 720x360 with 1 Axes>"
      ]
     },
     "metadata": {},
     "output_type": "display_data"
    }
   ],
   "source": [
    "sample_rate = audio_metadata_ex[\"entry\"][\"properties\"][\"sipecamAudio:SampleRate\"]\n",
    "# audio object\n",
    "audio = Audio(path=audio_path_ex, samplerate=sample_rate, timeexp=1.0)\n",
    "# plot\n",
    "plt.style.use('dark_background')\n",
    "audio.plot(figsize=(10, 5))"
   ]
  }
 ],
 "metadata": {
  "kernelspec": {
   "display_name": "Python 3",
   "language": "python",
   "name": "python3"
  },
  "kubeflow_notebook": {
   "autosnapshot": false,
   "docker_image": "",
   "experiment": {
    "id": "",
    "name": ""
   },
   "experiment_name": "",
   "katib_metadata": {
    "algorithm": {
     "algorithmName": "grid"
    },
    "maxFailedTrialCount": 3,
    "maxTrialCount": 12,
    "objective": {
     "objectiveMetricName": "",
     "type": "minimize"
    },
    "parallelTrialCount": 3,
    "parameters": []
   },
   "katib_run": false,
   "pipeline_description": "",
   "pipeline_name": "",
   "snapshot_volumes": false,
   "steps_defaults": [],
   "volume_access_mode": "rwm",
   "volumes": []
  },
  "language_info": {
   "codemirror_mode": {
    "name": "ipython",
    "version": 3
   },
   "file_extension": ".py",
   "mimetype": "text/x-python",
   "name": "python",
   "nbconvert_exporter": "python",
   "pygments_lexer": "ipython3",
   "version": "3.6.9"
  }
 },
 "nbformat": 4,
 "nbformat_minor": 4
}
