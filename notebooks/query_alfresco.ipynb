{
 "cells": [
  {
   "cell_type": "code",
   "execution_count": 6,
   "id": "260e14f9-0d9a-4d70-9010-0dac4ed3d095",
   "metadata": {},
   "outputs": [
    {
     "name": "stdout",
     "output_type": "stream",
     "text": [
      "Defaulting to user installation because normal site-packages is not writeable\n",
      "Collecting python-dotenv\n",
      "  Downloading python_dotenv-0.20.0-py3-none-any.whl (17 kB)\n",
      "Installing collected packages: python-dotenv\n",
      "\u001b[33m  WARNING: The script dotenv is installed in '/home/myuser/.local/bin' which is not on PATH.\n",
      "  Consider adding this directory to PATH or, if you prefer to suppress this warning, use --no-warn-script-location.\u001b[0m\u001b[33m\n",
      "\u001b[0mSuccessfully installed python-dotenv-0.20.0\n"
     ]
    }
   ],
   "source": [
    "!pip install python-dotenv"
   ]
  },
  {
   "cell_type": "code",
   "execution_count": 1,
   "id": "cda779c1-869f-4266-9638-ffcfe0e37fd7",
   "metadata": {},
   "outputs": [],
   "source": [
    "import os"
   ]
  },
  {
   "cell_type": "code",
   "execution_count": 2,
   "id": "b197af74-7939-403b-a1ee-15faa9ebf02a",
   "metadata": {},
   "outputs": [],
   "source": [
    "from utils import create_folder,find_node_info,find_site_info,upload_files"
   ]
  },
  {
   "cell_type": "code",
   "execution_count": 3,
   "id": "044a30ed-988f-49fb-872a-56cb0d6bc5b5",
   "metadata": {},
   "outputs": [],
   "source": [
    "from utils.login import login\n",
    "from utils.search import search"
   ]
  },
  {
   "cell_type": "code",
   "execution_count": 4,
   "id": "84c684a2-5f5a-4c30-9510-47bf1e50b6ec",
   "metadata": {},
   "outputs": [],
   "source": [
    "from dotenv import load_dotenv"
   ]
  },
  {
   "cell_type": "code",
   "execution_count": 5,
   "id": "cc740a22-e15e-4c26-867a-6c6d16c6e142",
   "metadata": {},
   "outputs": [],
   "source": [
    "os.environ['ALFRESCO_URL']      = \"http://alfresco.sipecam.conabio.gob.mx/\"\n",
    "os.environ['ALFRESCO_USER']     = \"<user>\" \n",
    "os.environ['ALFRESCO_PASSWORD'] = \"<password>\""
   ]
  },
  {
   "cell_type": "code",
   "execution_count": 6,
   "id": "bbcc96b3-2bc1-4cca-a7ea-3a9e44334c14",
   "metadata": {},
   "outputs": [],
   "source": [
    "def request_metadata(session, query):\n",
    "    try:\n",
    "        res = search(session, query)\n",
    "        counts = res['list']['pagination']['count']\n",
    "        print(f\"Found metadata for {counts} files\")\n",
    "        return res\n",
    "    except Exception as e:\n",
    "        print(\"Error: \", e)\n",
    "\n",
    "def parse_query_video(file_name):\n",
    "    query = {\n",
    "    \"query\": {\n",
    "        \"query\": f\"cm:name: \\\"{file_name}\\\"\"\n",
    "            }, \n",
    "    \"include\": [\"properties\", \"path\"],\n",
    "     \"paging\": {\"maxItems\": f\"{2}\"\n",
    "        }\n",
    "    }\n",
    "    return query"
   ]
  },
  {
   "cell_type": "code",
   "execution_count": 8,
   "id": "15454647-b245-42ee-acd5-0b3519693849",
   "metadata": {},
   "outputs": [],
   "source": [
    "file_name_video = \"0d05d10d2939c0351a837b6bb2c53f1d_0528.mp4\"\n",
    "load_dotenv()\n",
    "session = login()\n"
   ]
  },
  {
   "cell_type": "code",
   "execution_count": 9,
   "id": "3f37fc75-9595-4981-9ba8-89eac2dced3f",
   "metadata": {},
   "outputs": [
    {
     "data": {
      "text/plain": [
       "<requests.sessions.Session at 0x7f1f99fe4580>"
      ]
     },
     "execution_count": 9,
     "metadata": {},
     "output_type": "execute_result"
    }
   ],
   "source": [
    "session"
   ]
  },
  {
   "cell_type": "code",
   "execution_count": 10,
   "id": "bd59eec7-8f75-4968-96bf-3bba7e696fb6",
   "metadata": {},
   "outputs": [],
   "source": [
    "query = parse_query_video(file_name_video)\n"
   ]
  },
  {
   "cell_type": "code",
   "execution_count": 11,
   "id": "9b87e0bc-9429-40e1-8c8e-76c9bf5ec7f1",
   "metadata": {},
   "outputs": [
    {
     "data": {
      "text/plain": [
       "{'query': {'query': 'cm:name: \"0d05d10d2939c0351a837b6bb2c53f1d_0528.mp4\"'},\n",
       " 'include': ['properties', 'path'],\n",
       " 'paging': {'maxItems': '2'}}"
      ]
     },
     "execution_count": 11,
     "metadata": {},
     "output_type": "execute_result"
    }
   ],
   "source": [
    "query"
   ]
  },
  {
   "cell_type": "code",
   "execution_count": 12,
   "id": "6a49a1bb-e55e-470a-9fc5-53e68cd9885a",
   "metadata": {},
   "outputs": [
    {
     "name": "stdout",
     "output_type": "stream",
     "text": [
      "Found metadata for 1 files\n"
     ]
    }
   ],
   "source": [
    "metadata  = request_metadata(session, query)"
   ]
  },
  {
   "cell_type": "code",
   "execution_count": 13,
   "id": "78dfb259-e51d-4e43-bb0d-4a90540dd190",
   "metadata": {},
   "outputs": [
    {
     "data": {
      "text/plain": [
       "{'list': {'pagination': {'count': 1,\n",
       "   'hasMoreItems': False,\n",
       "   'totalItems': 1,\n",
       "   'skipCount': 0,\n",
       "   'maxItems': 2},\n",
       "  'context': {'consistency': {'lastTxId': 1229433}},\n",
       "  'entries': [{'entry': {'isFile': True,\n",
       "     'createdByUser': {'id': 'jdonlucas', 'displayName': 'Jaime Donlucas'},\n",
       "     'modifiedAt': '2022-06-17T23:47:32.926+0000',\n",
       "     'nodeType': 'sipecam:video',\n",
       "     'content': {'mimeType': 'video/mp4',\n",
       "      'mimeTypeName': 'MPEG4 Video',\n",
       "      'sizeInBytes': 820889,\n",
       "      'encoding': 'UTF-8'},\n",
       "     'parentId': 'f4c75ab8-12a9-46c1-af67-0ea291e2be10',\n",
       "     'createdAt': '2022-06-17T00:02:02.394+0000',\n",
       "     'path': {'name': '/Company Home/Sites/sipecam/documentLibrary/13/3_13_0_1398/HLPXGM09048448/2022-02-21/images_videos',\n",
       "      'isComplete': True,\n",
       "      'elements': [{'id': 'def5c4ab-a8f4-4132-a428-19222e69d5f5',\n",
       "        'name': 'Company Home',\n",
       "        'nodeType': 'cm:folder',\n",
       "        'aspectNames': ['cm:titled', 'cm:auditable', 'app:uifacets']},\n",
       "       {'id': 'f8f4b493-5874-4b68-b1b2-ee447841e250',\n",
       "        'name': 'Sites',\n",
       "        'nodeType': 'st:sites',\n",
       "        'aspectNames': ['cm:titled', 'cm:auditable', 'app:uifacets']},\n",
       "       {'id': '2ed5f87f-36ff-4808-94da-1973f3cd94db',\n",
       "        'name': 'sipecam',\n",
       "        'nodeType': 'st:site',\n",
       "        'aspectNames': ['cm:tagscope', 'cm:titled', 'cm:auditable']},\n",
       "       {'id': '7bffabb9-af28-4a74-8f0c-555af30b9fd5',\n",
       "        'name': 'documentLibrary',\n",
       "        'nodeType': 'cm:folder',\n",
       "        'aspectNames': ['cm:tagscope', 'st:siteContainer', 'cm:auditable']},\n",
       "       {'id': '31a4b906-cb37-4ea4-8959-9c373982cbc0',\n",
       "        'name': '13',\n",
       "        'nodeType': 'cm:folder',\n",
       "        'aspectNames': ['cm:auditable']},\n",
       "       {'id': 'a0c49032-0bbf-46df-bc12-8842f383ce0c',\n",
       "        'name': '3_13_0_1398',\n",
       "        'nodeType': 'cm:folder',\n",
       "        'aspectNames': ['cm:auditable']},\n",
       "       {'id': '4a26e44a-9ccf-4645-b7df-5f39c9ae4661',\n",
       "        'name': 'HLPXGM09048448',\n",
       "        'nodeType': 'cm:folder',\n",
       "        'aspectNames': ['cm:auditable']},\n",
       "       {'id': '811c044b-4253-4a53-af37-df2f893067a6',\n",
       "        'name': '2022-02-21',\n",
       "        'nodeType': 'cm:folder',\n",
       "        'aspectNames': ['cm:auditable']},\n",
       "       {'id': 'f4c75ab8-12a9-46c1-af67-0ea291e2be10',\n",
       "        'name': 'images_videos',\n",
       "        'nodeType': 'cm:folder',\n",
       "        'aspectNames': ['cm:auditable']}]},\n",
       "     'isFolder': False,\n",
       "     'search': {'score': 1.0},\n",
       "     'modifiedByUser': {'id': 'jdonlucas', 'displayName': 'Jaime Donlucas'},\n",
       "     'name': '0d05d10d2939c0351a837b6bb2c53f1d_0528.mp4',\n",
       "     'location': 'nodes',\n",
       "     'id': '35dd654e-8c4a-4b4e-b9cc-4e75dfbf79bf',\n",
       "     'properties': {'sipecam:LongitudeRef': 'West',\n",
       "      'sipecam:FrameCount': 64,\n",
       "      'cm:versionType': 'MAJOR',\n",
       "      'cm:versionLabel': '1.0',\n",
       "      'sipecam:Latitude': 18.1404,\n",
       "      'audio:sampleRate': 1000,\n",
       "      'sipecam:AudioCompression': 'Microsoft Pulse Code Modulation (PCM)',\n",
       "      'sipecam:CumulusName': '13',\n",
       "      'sipecam:VideoBitsPerPixel': 24,\n",
       "      'sipecam:NomenclatureNode': '3_13_0_1398',\n",
       "      'sipecam:CentroidCumulusLongitude': -91.8252,\n",
       "      'sipecam:BitsPerSample': 16.0,\n",
       "      'sipecam:NumChannels': 1,\n",
       "      'sipecam:ImageHeight': 720,\n",
       "      'sipecam:BMPVersion': 'Windows V3',\n",
       "      'sipecam:PixelsPerMeterY': '0',\n",
       "      'sipecam:AvgBytesPerSec': 32050.0,\n",
       "      'sipecam:PixelsPerMeterX': '0',\n",
       "      'sipecam:Planes': 1,\n",
       "      'sipecam:ImageLength': '2211840',\n",
       "      'sipecam:AudioSampleCount': 0,\n",
       "      'sipecam:AudioBitRate': '256.4 Kbit/sec',\n",
       "      'sipecam:DateTimeOriginal': '2022-03-19T21:50:39.000+0000',\n",
       "      'sipecam:VideoCompression': 'Motion JPEG DIB (fourcc:\"MJPG\")',\n",
       "      'sipecam:EcosystemsName': 'Selvas humedas',\n",
       "      'sipecam:AudioCompressionRate': '1.0x',\n",
       "      'sipecam:Megapixels': 0.73728,\n",
       "      'sipecam:DateDeployment': '2022-02-21T00:00:00.000+0000',\n",
       "      'sipecam:NumColors': 'Use BitDepth',\n",
       "      'sipecam:NumImportantColors': 'All',\n",
       "      'sipecam:MaxDataRate': 26542080,\n",
       "      'sipecam:Encoding': 'Microsoft PCM',\n",
       "      'sipecam:StreamCount': 2,\n",
       "      'sipecam:FileSize': 3355443,\n",
       "      'sipecam:SerialNumber': 'HLPXGM09048448',\n",
       "      'sipecam:ImageWidth': 1024,\n",
       "      'sipecam:CentroidCumulusLatitude': 18.1696,\n",
       "      'sipecam:Duration': 5.12,\n",
       "      'sipecam:BitRate': '5.3 Mbit/sec',\n",
       "      'sipecam:FrameRate': 12,\n",
       "      'sipecam:Endianness': 'Little endian',\n",
       "      'sipecam:AudioSampleRate': '16.0 kHz',\n",
       "      'sipecam:NodeCategoryIntegrity': 'Degradado',\n",
       "      'sipecam:Longitude': -91.9463,\n",
       "      'sipecam:LatitudeRef': 'North'}}}]}}"
      ]
     },
     "execution_count": 13,
     "metadata": {},
     "output_type": "execute_result"
    }
   ],
   "source": [
    "metadata"
   ]
  },
  {
   "cell_type": "code",
   "execution_count": null,
   "id": "dbf47e12-cdf3-4c76-bf64-a878041997ab",
   "metadata": {},
   "outputs": [],
   "source": []
  }
 ],
 "metadata": {
  "kernelspec": {
   "display_name": "Python 3 (ipykernel)",
   "language": "python",
   "name": "python3"
  },
  "language_info": {
   "codemirror_mode": {
    "name": "ipython",
    "version": 3
   },
   "file_extension": ".py",
   "mimetype": "text/x-python",
   "name": "python",
   "nbconvert_exporter": "python",
   "pygments_lexer": "ipython3",
   "version": "3.8.10"
  }
 },
 "nbformat": 4,
 "nbformat_minor": 5
}
